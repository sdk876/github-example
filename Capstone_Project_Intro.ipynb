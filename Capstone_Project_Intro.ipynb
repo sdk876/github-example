{
 "cells": [
  {
   "cell_type": "markdown",
   "metadata": {},
   "source": [
    "# Is there any place for a new Chinese restaurant in Toronto?"
   ]
  },
  {
   "cell_type": "markdown",
   "metadata": {},
   "source": [
    "## Part 1: Problem Description\n",
    "\n",
    "The idea of this study is to help people planning to open a new Chinese restaurant in Toronto. To chose the right location by providing data about the income and population of each neighborhood as well as the competitors already present on the same spot. It is widely unknown that Chinese restaurants are usually quite cheap, which is an idea choice for middle or low income residents. For examples, in New york or Los Angles, there are huge China town, where the compitition is usually very high.\n",
    "\n",
    "In this project, I will try to clusters the different restaurants in Toronto city, and see how it is possible to start a new Chinese restaurant.\n"
   ]
  },
  {
   "cell_type": "markdown",
   "metadata": {},
   "source": [
    "# Part 2, Data\n",
    "\n",
    "The data we will use is comments from \"Foursqure\" and API from website. By giving it with Geolocation such as longitude and latitude, it is possible to see some comments from previous users. The \n",
    "\n",
    "### Some Notes about \"Foursquare\": <https://foursquare.com/>\n",
    "##### Foursquare is a local search-and-discovery service mobile app which provides search results for its users (Wikipedia).\n",
    "##### Founded: New York City, New York, U.S\n",
    "##### Users: 60 million\n",
    "##### Date launched: March 11, 2009\n",
    "##### Employees: Over 200\n",
    "##### Founders: Dennis Crowley, Naveen Selvadurai\n",
    "##### Owner: Foursquare Labs, Inc."
   ]
  },
  {
   "cell_type": "code",
   "execution_count": null,
   "metadata": {},
   "outputs": [],
   "source": []
  }
 ],
 "metadata": {
  "kernelspec": {
   "display_name": "Python 3",
   "language": "python",
   "name": "python3"
  },
  "language_info": {
   "codemirror_mode": {
    "name": "ipython",
    "version": 3
   },
   "file_extension": ".py",
   "mimetype": "text/x-python",
   "name": "python",
   "nbconvert_exporter": "python",
   "pygments_lexer": "ipython3",
   "version": "3.6.7"
  }
 },
 "nbformat": 4,
 "nbformat_minor": 4
}
